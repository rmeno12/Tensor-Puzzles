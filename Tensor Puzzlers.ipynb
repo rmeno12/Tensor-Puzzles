{
 "cells": [
  {
   "cell_type": "markdown",
   "id": "71e87499",
   "metadata": {
    "lines_to_next_cell": 2
   },
   "source": [
    "# Tensor Puzzles\n",
    "- by [Sasha Rush](http://rush-nlp.com) - [srush_nlp](https://twitter.com/srush_nlp) (with Marcos Treviso)\n",
    "\n",
    "\n",
    "\n",
    "\n",
    "\n",
    "When learning a tensor programming language like PyTorch or Numpy it\n",
    "is tempting to rely on the standard library (or more honestly\n",
    "StackOverflow) to find a magic function for everything.  But in\n",
    "practice, the tensor language is extremely expressive, and you can\n",
    "do most things from first principles and clever use of broadcasting.\n",
    "\n",
    "\n",
    "\n",
    "This is a collection of 21 tensor puzzles. Like chess puzzles these are\n",
    "not meant to simulate the complexity of a real program, but to practice\n",
    "in a simplified environment. Each puzzle asks you to reimplement one\n",
    "function in the NumPy standard library without magic. \n",
    "\n",
    "\n",
    "I recommend running in Colab. Click here and copy the notebook to get start.\n",
    "\n",
    "[![Open In Colab](https://colab.research.google.com/assets/colab-badge.svg)](https://colab.research.google.com/github/srush/Tensor-Puzzles/blob/main/Tensor%20Puzzlers.ipynb)"
   ]
  },
  {
   "cell_type": "code",
   "execution_count": 2,
   "id": "bf221907",
   "metadata": {
    "execution": {
     "iopub.execute_input": "2022-07-13T00:15:15.036937Z",
     "iopub.status.busy": "2022-07-13T00:15:15.036583Z",
     "iopub.status.idle": "2022-07-13T00:15:16.650907Z",
     "shell.execute_reply": "2022-07-13T00:15:16.650254Z"
    }
   },
   "outputs": [],
   "source": [
    "from lib import draw_examples, make_test, run_test\n",
    "import torch\n",
    "import numpy as np\n",
    "from torchtyping import TensorType as TT\n",
    "tensor = torch.tensor"
   ]
  },
  {
   "cell_type": "markdown",
   "id": "0b4f584e",
   "metadata": {},
   "source": [
    "## Rules\n",
    "\n",
    "1. These puzzles are about *broadcasting*. Know this rule."
   ]
  },
  {
   "cell_type": "markdown",
   "id": "2e2fdc64",
   "metadata": {
    "lines_to_next_cell": 2
   },
   "source": [
    "![](https://pbs.twimg.com/media/FQywor0WYAssn7Y?format=png&name=large)"
   ]
  },
  {
   "cell_type": "markdown",
   "id": "a7015885",
   "metadata": {},
   "source": [
    "2. Each puzzle needs to be solved in 1 line (<80 columns) of code.\n",
    "3. You are allowed @, arithmetic, comparison, `shape`, any indexing (e.g. `a[:j], a[:, None], a[arange(10)]`), and previous puzzle functions.\n",
    "4. You are *not allowed* anything else. No `view`, `sum`, `take`, `squeeze`, `tensor`."
   ]
  },
  {
   "cell_type": "markdown",
   "id": "dc2cbfb3",
   "metadata": {},
   "source": [
    "5. You can start with these two functions:"
   ]
  },
  {
   "cell_type": "code",
   "execution_count": null,
   "id": "1e917499",
   "metadata": {
    "execution": {
     "iopub.execute_input": "2022-07-13T00:15:16.654641Z",
     "iopub.status.busy": "2022-07-13T00:15:16.654307Z",
     "iopub.status.idle": "2022-07-13T00:15:16.697912Z",
     "shell.execute_reply": "2022-07-13T00:15:16.697280Z"
    },
    "lines_to_next_cell": 2
   },
   "outputs": [],
   "source": [
    "def arange(i: int):\n",
    "    \"Use this function to replace a for-loop.\"\n",
    "    return torch.tensor(range(i))\n",
    "\n",
    "draw_examples(\"arange\", [{\"\" : arange(i)} for i in [5, 3, 9]])"
   ]
  },
  {
   "cell_type": "code",
   "execution_count": null,
   "id": "aa922d9d",
   "metadata": {
    "execution": {
     "iopub.execute_input": "2022-07-13T00:15:16.701951Z",
     "iopub.status.busy": "2022-07-13T00:15:16.701616Z",
     "iopub.status.idle": "2022-07-13T00:15:16.795294Z",
     "shell.execute_reply": "2022-07-13T00:15:16.794635Z"
    }
   },
   "outputs": [],
   "source": [
    "# Example of broadcasting.\n",
    "examples = [(arange(4), arange(5)[:, None]) ,\n",
    "            (arange(3)[:, None], arange(2))]\n",
    "draw_examples(\"broadcast\", [{\"a\": a, \"b\":b, \"ret\": a + b} for a, b in examples])"
   ]
  },
  {
   "cell_type": "code",
   "execution_count": null,
   "id": "0554b7e3",
   "metadata": {
    "execution": {
     "iopub.execute_input": "2022-07-13T00:15:16.799098Z",
     "iopub.status.busy": "2022-07-13T00:15:16.798780Z",
     "iopub.status.idle": "2022-07-13T00:15:16.910897Z",
     "shell.execute_reply": "2022-07-13T00:15:16.910310Z"
    },
    "lines_to_end_of_cell_marker": 0,
    "lines_to_next_cell": 1
   },
   "outputs": [],
   "source": [
    "def where(q, a, b):\n",
    "    \"Use this function to replace an if-statement.\"\n",
    "    return (q * a) + (~q) * b\n",
    "\n",
    "# In diagrams, orange is positive/True, white is zero/False, and blue is negative.\n",
    "\n",
    "examples = [(tensor([False]), tensor([10]), tensor([0])),\n",
    "            (tensor([False, True]), tensor([1, 1]), tensor([-10, 0])),\n",
    "            (tensor([False, True]), tensor([1]), tensor([-10, 0])),\n",
    "            (tensor([[False, True], [True, False]]), tensor([1]), tensor([-10, 0])),\n",
    "            (tensor([[False, True], [True, False]]), tensor([[0], [10]]), tensor([-10, 0])),\n",
    "           ]\n",
    "draw_examples(\"where\", [{\"q\": q, \"a\":a, \"b\":b, \"ret\": where(q, a, b)} for q, a, b in examples])"
   ]
  },
  {
   "cell_type": "markdown",
   "id": "06ef7f29",
   "metadata": {},
   "source": [
    "## Puzzle 1 - ones\n",
    "\n",
    "Compute [ones](https://numpy.org/doc/stable/reference/generated/numpy.ones.html) - the vector of all ones."
   ]
  },
  {
   "cell_type": "code",
   "execution_count": null,
   "id": "e46e4ada",
   "metadata": {
    "execution": {
     "iopub.execute_input": "2022-07-13T00:15:16.915061Z",
     "iopub.status.busy": "2022-07-13T00:15:16.914716Z",
     "iopub.status.idle": "2022-07-13T00:15:17.727959Z",
     "shell.execute_reply": "2022-07-13T00:15:17.727364Z"
    }
   },
   "outputs": [],
   "source": [
    "def ones_spec(out):\n",
    "    for i in range(len(out)):\n",
    "        out[i] = 1\n",
    "        \n",
    "def ones(i: int) -> TT[\"i\"]:\n",
    "    raise NotImplementedError\n",
    "\n",
    "test_ones = make_test(\"one\", ones, ones_spec, add_sizes=[\"i\"])"
   ]
  },
  {
   "cell_type": "code",
   "execution_count": 7,
   "id": "65dadb3d",
   "metadata": {
    "execution": {
     "iopub.execute_input": "2022-07-13T00:15:17.731092Z",
     "iopub.status.busy": "2022-07-13T00:15:17.730771Z",
     "iopub.status.idle": "2022-07-13T00:15:17.734462Z",
     "shell.execute_reply": "2022-07-13T00:15:17.733881Z"
    },
    "lines_to_next_cell": 2
   },
   "outputs": [],
   "source": [
    "# run_test(test_ones)"
   ]
  },
  {
   "cell_type": "markdown",
   "id": "d281e56c",
   "metadata": {},
   "source": [
    "## Puzzle 2 - sum\n",
    "\n",
    "Compute [sum](https://numpy.org/doc/stable/reference/generated/numpy.sum.html) - the sum of a vector."
   ]
  },
  {
   "cell_type": "code",
   "execution_count": null,
   "id": "eb9f236f",
   "metadata": {
    "execution": {
     "iopub.execute_input": "2022-07-13T00:15:17.737503Z",
     "iopub.status.busy": "2022-07-13T00:15:17.737190Z",
     "iopub.status.idle": "2022-07-13T00:15:18.496977Z",
     "shell.execute_reply": "2022-07-13T00:15:18.496351Z"
    }
   },
   "outputs": [],
   "source": [
    "def sum_spec(a, out):\n",
    "    out[0] = 0\n",
    "    for i in range(len(a)):\n",
    "        out[0] += a[i]\n",
    "        \n",
    "def sum(a: TT[\"i\"]) -> TT[1]:\n",
    "    raise NotImplementedError\n",
    "\n",
    "\n",
    "test_sum = make_test(\"sum\", sum, sum_spec)"
   ]
  },
  {
   "cell_type": "code",
   "execution_count": 9,
   "id": "3f7e2b46",
   "metadata": {
    "execution": {
     "iopub.execute_input": "2022-07-13T00:15:18.500120Z",
     "iopub.status.busy": "2022-07-13T00:15:18.499809Z",
     "iopub.status.idle": "2022-07-13T00:15:18.503156Z",
     "shell.execute_reply": "2022-07-13T00:15:18.502577Z"
    },
    "lines_to_next_cell": 2
   },
   "outputs": [],
   "source": [
    "# run_test(test_sum)"
   ]
  },
  {
   "cell_type": "markdown",
   "id": "7b2d68c4",
   "metadata": {},
   "source": [
    "## Puzzle 3 - outer\n",
    "\n",
    "Compute [outer](https://numpy.org/doc/stable/reference/generated/numpy.outer.html) - the outer product of two vectors."
   ]
  },
  {
   "cell_type": "code",
   "execution_count": null,
   "id": "33e8b424",
   "metadata": {
    "execution": {
     "iopub.execute_input": "2022-07-13T00:15:18.506196Z",
     "iopub.status.busy": "2022-07-13T00:15:18.505868Z",
     "iopub.status.idle": "2022-07-13T00:15:20.019439Z",
     "shell.execute_reply": "2022-07-13T00:15:20.018755Z"
    }
   },
   "outputs": [],
   "source": [
    "def outer_spec(a, b, out):\n",
    "    for i in range(len(out)):\n",
    "        for j in range(len(out[0])):\n",
    "            out[i][j] = a[i] * b[j]\n",
    "            \n",
    "def outer(a: TT[\"i\"], b: TT[\"j\"]) -> TT[\"i\", \"j\"]:\n",
    "    raise NotImplementedError\n",
    "    \n",
    "test_outer = make_test(\"outer\", outer, outer_spec)"
   ]
  },
  {
   "cell_type": "code",
   "execution_count": 11,
   "id": "15c04a58",
   "metadata": {
    "execution": {
     "iopub.execute_input": "2022-07-13T00:15:20.022830Z",
     "iopub.status.busy": "2022-07-13T00:15:20.022513Z",
     "iopub.status.idle": "2022-07-13T00:15:20.026801Z",
     "shell.execute_reply": "2022-07-13T00:15:20.026186Z"
    }
   },
   "outputs": [],
   "source": [
    "# run_test(test_outer)"
   ]
  },
  {
   "cell_type": "markdown",
   "id": "ebb1a810",
   "metadata": {},
   "source": [
    "## Puzzle 4 - diag\n",
    "\n",
    "Compute [diag](https://numpy.org/doc/stable/reference/generated/numpy.diag.html) - the diagonal vector of a square matrix."
   ]
  },
  {
   "cell_type": "code",
   "execution_count": null,
   "id": "09ea72c6",
   "metadata": {
    "execution": {
     "iopub.execute_input": "2022-07-13T00:15:20.030049Z",
     "iopub.status.busy": "2022-07-13T00:15:20.029731Z",
     "iopub.status.idle": "2022-07-13T00:15:21.274448Z",
     "shell.execute_reply": "2022-07-13T00:15:21.273836Z"
    }
   },
   "outputs": [],
   "source": [
    "def diag_spec(a, out):\n",
    "    for i in range(len(a)):\n",
    "        out[i] = a[i][i]\n",
    "        \n",
    "def diag(a: TT[\"i\", \"i\"]) -> TT[\"i\"]:\n",
    "    raise NotImplementedError\n",
    "\n",
    "\n",
    "test_diag = make_test(\"diag\", diag, diag_spec)"
   ]
  },
  {
   "cell_type": "code",
   "execution_count": 13,
   "id": "5d4c3641",
   "metadata": {
    "execution": {
     "iopub.execute_input": "2022-07-13T00:15:21.277837Z",
     "iopub.status.busy": "2022-07-13T00:15:21.277486Z",
     "iopub.status.idle": "2022-07-13T00:15:21.281005Z",
     "shell.execute_reply": "2022-07-13T00:15:21.280409Z"
    }
   },
   "outputs": [],
   "source": [
    "# run_test(test_diag)"
   ]
  },
  {
   "cell_type": "markdown",
   "id": "0ffdce80",
   "metadata": {},
   "source": [
    "## Puzzle 5 - eye\n",
    "\n",
    "Compute [eye](https://numpy.org/doc/stable/reference/generated/numpy.eye.html) - the identity matrix."
   ]
  },
  {
   "cell_type": "code",
   "execution_count": null,
   "id": "4fda43df",
   "metadata": {
    "execution": {
     "iopub.execute_input": "2022-07-13T00:15:21.283997Z",
     "iopub.status.busy": "2022-07-13T00:15:21.283689Z",
     "iopub.status.idle": "2022-07-13T00:15:22.155854Z",
     "shell.execute_reply": "2022-07-13T00:15:22.155222Z"
    }
   },
   "outputs": [],
   "source": [
    "def eye_spec(out):\n",
    "    for i in range(len(out)):\n",
    "        out[i][i] = 1\n",
    "        \n",
    "def eye(j: int) -> TT[\"j\", \"j\"]:\n",
    "    raise NotImplementedError\n",
    "    \n",
    "test_eye = make_test(\"eye\", eye, eye_spec, add_sizes=[\"j\"])"
   ]
  },
  {
   "cell_type": "code",
   "execution_count": 15,
   "id": "1c2ec691",
   "metadata": {
    "execution": {
     "iopub.execute_input": "2022-07-13T00:15:22.159088Z",
     "iopub.status.busy": "2022-07-13T00:15:22.158772Z",
     "iopub.status.idle": "2022-07-13T00:15:22.162208Z",
     "shell.execute_reply": "2022-07-13T00:15:22.161597Z"
    }
   },
   "outputs": [],
   "source": [
    "# run_test(test_eye)"
   ]
  },
  {
   "cell_type": "markdown",
   "id": "3ceb0fdd",
   "metadata": {},
   "source": [
    "## Puzzle 6 - triu\n",
    "\n",
    "Compute [triu](https://numpy.org/doc/stable/reference/generated/numpy.triu.html) - the upper triangular matrix."
   ]
  },
  {
   "cell_type": "code",
   "execution_count": null,
   "id": "4658f7e5",
   "metadata": {
    "execution": {
     "iopub.execute_input": "2022-07-13T00:15:22.165226Z",
     "iopub.status.busy": "2022-07-13T00:15:22.164922Z",
     "iopub.status.idle": "2022-07-13T00:15:23.160949Z",
     "shell.execute_reply": "2022-07-13T00:15:23.160294Z"
    }
   },
   "outputs": [],
   "source": [
    "def triu_spec(out):\n",
    "    for i in range(len(out)):\n",
    "        for j in range(len(out)):\n",
    "            if i <= j:\n",
    "                out[i][j] = 1\n",
    "            else:\n",
    "                out[i][j] = 0\n",
    "                \n",
    "def triu(j: int) -> TT[\"j\", \"j\"]:\n",
    "    raise NotImplementedError\n",
    "\n",
    "\n",
    "test_triu = make_test(\"triu\", triu, triu_spec, add_sizes=[\"j\"])"
   ]
  },
  {
   "cell_type": "code",
   "execution_count": 17,
   "id": "b00e3f88",
   "metadata": {
    "execution": {
     "iopub.execute_input": "2022-07-13T00:15:23.164309Z",
     "iopub.status.busy": "2022-07-13T00:15:23.163987Z",
     "iopub.status.idle": "2022-07-13T00:15:23.167373Z",
     "shell.execute_reply": "2022-07-13T00:15:23.166786Z"
    }
   },
   "outputs": [],
   "source": [
    "# run_test(test_triu)"
   ]
  },
  {
   "cell_type": "markdown",
   "id": "f3209ef8",
   "metadata": {},
   "source": [
    "## Puzzle 7 - cumsum\n",
    "\n",
    "Compute [cumsum](https://numpy.org/doc/stable/reference/generated/numpy.cumsum.html) - the cumulative sum."
   ]
  },
  {
   "cell_type": "code",
   "execution_count": null,
   "id": "997ee763",
   "metadata": {
    "execution": {
     "iopub.execute_input": "2022-07-13T00:15:23.170337Z",
     "iopub.status.busy": "2022-07-13T00:15:23.170024Z",
     "iopub.status.idle": "2022-07-13T00:15:24.239732Z",
     "shell.execute_reply": "2022-07-13T00:15:24.239081Z"
    }
   },
   "outputs": [],
   "source": [
    "def cumsum_spec(a, out):\n",
    "    total = 0\n",
    "    for i in range(len(out)):\n",
    "        out[i] = total + a[i]\n",
    "        total += a[i]\n",
    "\n",
    "def cumsum(a: TT[\"i\"]) -> TT[\"i\"]:\n",
    "    raise NotImplementedError\n",
    "\n",
    "test_cumsum = make_test(\"cumsum\", cumsum, cumsum_spec)"
   ]
  },
  {
   "cell_type": "code",
   "execution_count": 19,
   "id": "9145d1cc",
   "metadata": {
    "execution": {
     "iopub.execute_input": "2022-07-13T00:15:24.243017Z",
     "iopub.status.busy": "2022-07-13T00:15:24.242709Z",
     "iopub.status.idle": "2022-07-13T00:15:24.246110Z",
     "shell.execute_reply": "2022-07-13T00:15:24.245551Z"
    },
    "lines_to_next_cell": 2
   },
   "outputs": [],
   "source": [
    "# run_test(test_cumsum)"
   ]
  },
  {
   "cell_type": "markdown",
   "id": "15c09fb6",
   "metadata": {},
   "source": [
    "## Puzzle 8 - diff\n",
    "\n",
    "Compute [diff](https://numpy.org/doc/stable/reference/generated/numpy.diff.html) - the running difference."
   ]
  },
  {
   "cell_type": "code",
   "execution_count": null,
   "id": "47d86d1f",
   "metadata": {
    "execution": {
     "iopub.execute_input": "2022-07-13T00:15:24.249200Z",
     "iopub.status.busy": "2022-07-13T00:15:24.248891Z",
     "iopub.status.idle": "2022-07-13T00:15:25.183613Z",
     "shell.execute_reply": "2022-07-13T00:15:25.182987Z"
    }
   },
   "outputs": [],
   "source": [
    "def diff_spec(a, out):\n",
    "    out[0] = a[0]\n",
    "    for i in range(1, len(out)):\n",
    "        out[i] = a[i] - a[i - 1]\n",
    "\n",
    "def diff(a: TT[\"i\"], i: int) -> TT[\"i\"]:\n",
    "    raise NotImplementedError\n",
    "\n",
    "test_diff = make_test(\"diff\", diff, diff_spec, add_sizes=[\"i\"])"
   ]
  },
  {
   "cell_type": "code",
   "execution_count": 21,
   "id": "bb4eeff6",
   "metadata": {
    "execution": {
     "iopub.execute_input": "2022-07-13T00:15:25.186875Z",
     "iopub.status.busy": "2022-07-13T00:15:25.186557Z",
     "iopub.status.idle": "2022-07-13T00:15:25.190034Z",
     "shell.execute_reply": "2022-07-13T00:15:25.189482Z"
    }
   },
   "outputs": [],
   "source": [
    "# run_test(test_diff)"
   ]
  },
  {
   "cell_type": "markdown",
   "id": "74c616c6",
   "metadata": {},
   "source": [
    "## Puzzle 9 - vstack\n",
    "\n",
    "Compute [vstack](https://numpy.org/doc/stable/reference/generated/numpy.vstack.html) - the matrix of two vectors"
   ]
  },
  {
   "cell_type": "code",
   "execution_count": null,
   "id": "20a69840",
   "metadata": {
    "execution": {
     "iopub.execute_input": "2022-07-13T00:15:25.193149Z",
     "iopub.status.busy": "2022-07-13T00:15:25.192804Z",
     "iopub.status.idle": "2022-07-13T00:15:26.641528Z",
     "shell.execute_reply": "2022-07-13T00:15:26.640905Z"
    }
   },
   "outputs": [],
   "source": [
    "def vstack_spec(a, b, out):\n",
    "    for i in range(len(out[0])):\n",
    "        out[0][i] = a[i]\n",
    "        out[1][i] = b[i]\n",
    "\n",
    "def vstack(a: TT[\"i\"], b: TT[\"i\"]) -> TT[2, \"i\"]:\n",
    "    raise NotImplementedError\n",
    "\n",
    "\n",
    "test_vstack = make_test(\"vstack\", vstack, vstack_spec)"
   ]
  },
  {
   "cell_type": "code",
   "execution_count": 23,
   "id": "e6cb449b",
   "metadata": {
    "execution": {
     "iopub.execute_input": "2022-07-13T00:15:26.644713Z",
     "iopub.status.busy": "2022-07-13T00:15:26.644397Z",
     "iopub.status.idle": "2022-07-13T00:15:26.647729Z",
     "shell.execute_reply": "2022-07-13T00:15:26.647154Z"
    }
   },
   "outputs": [],
   "source": [
    "# run_test(test_vstack)"
   ]
  },
  {
   "cell_type": "markdown",
   "id": "e3f8a5ae",
   "metadata": {},
   "source": [
    "## Puzzle 10 - roll\n",
    "\n",
    "Compute [roll](https://numpy.org/doc/stable/reference/generated/numpy.roll.html) - the vector shifted 1 circular position."
   ]
  },
  {
   "cell_type": "code",
   "execution_count": null,
   "id": "7962491f",
   "metadata": {
    "execution": {
     "iopub.execute_input": "2022-07-13T00:15:26.650696Z",
     "iopub.status.busy": "2022-07-13T00:15:26.650381Z",
     "iopub.status.idle": "2022-07-13T00:15:27.752738Z",
     "shell.execute_reply": "2022-07-13T00:15:27.752117Z"
    }
   },
   "outputs": [],
   "source": [
    "def roll_spec(a, out):\n",
    "    for i in range(len(out)):\n",
    "        if i + 1 < len(out):\n",
    "            out[i] = a[i + 1]\n",
    "        else:\n",
    "            out[i] = a[i + 1 - len(out)]\n",
    "            \n",
    "def roll(a: TT[\"i\"], i: int) -> TT[\"i\"]:\n",
    "    raise NotImplementedError\n",
    "\n",
    "\n",
    "test_roll = make_test(\"roll\", roll, roll_spec, add_sizes=[\"i\"])"
   ]
  },
  {
   "cell_type": "code",
   "execution_count": 25,
   "id": "09103327",
   "metadata": {
    "execution": {
     "iopub.execute_input": "2022-07-13T00:15:27.755891Z",
     "iopub.status.busy": "2022-07-13T00:15:27.755582Z",
     "iopub.status.idle": "2022-07-13T00:15:27.758982Z",
     "shell.execute_reply": "2022-07-13T00:15:27.758408Z"
    }
   },
   "outputs": [],
   "source": [
    "# run_test(test_roll)"
   ]
  },
  {
   "cell_type": "markdown",
   "id": "adc7dcdd",
   "metadata": {},
   "source": [
    "## Puzzle 11 - flip\n",
    "\n",
    "Compute [flip](https://numpy.org/doc/stable/reference/generated/numpy.flip.html) - the reversed vector"
   ]
  },
  {
   "cell_type": "code",
   "execution_count": null,
   "id": "1f2d83bb",
   "metadata": {
    "execution": {
     "iopub.execute_input": "2022-07-13T00:15:27.762023Z",
     "iopub.status.busy": "2022-07-13T00:15:27.761718Z",
     "iopub.status.idle": "2022-07-13T00:15:28.745412Z",
     "shell.execute_reply": "2022-07-13T00:15:28.744797Z"
    }
   },
   "outputs": [],
   "source": [
    "def flip_spec(a, out):\n",
    "    for i in range(len(out)):\n",
    "        out[i] = a[len(out) - i - 1]\n",
    "        \n",
    "def flip(a: TT[\"i\"], i: int) -> TT[\"i\"]:\n",
    "    raise NotImplementedError\n",
    "\n",
    "\n",
    "test_flip = make_test(\"flip\", flip, flip_spec, add_sizes=[\"i\"])"
   ]
  },
  {
   "cell_type": "code",
   "execution_count": 27,
   "id": "e5168678",
   "metadata": {
    "execution": {
     "iopub.execute_input": "2022-07-13T00:15:28.748580Z",
     "iopub.status.busy": "2022-07-13T00:15:28.748257Z",
     "iopub.status.idle": "2022-07-13T00:15:28.751662Z",
     "shell.execute_reply": "2022-07-13T00:15:28.751071Z"
    }
   },
   "outputs": [],
   "source": [
    "# run_test(test_flip)"
   ]
  },
  {
   "cell_type": "markdown",
   "id": "fa4469eb",
   "metadata": {},
   "source": [
    "## Puzzle 12 - compress\n",
    "\n",
    "\n",
    "Compute [compress](https://numpy.org/doc/stable/reference/generated/numpy.compress.html) - keep only masked entries (left-aligned)."
   ]
  },
  {
   "cell_type": "code",
   "execution_count": null,
   "id": "f49b8303",
   "metadata": {
    "execution": {
     "iopub.execute_input": "2022-07-13T00:15:28.754592Z",
     "iopub.status.busy": "2022-07-13T00:15:28.754290Z",
     "iopub.status.idle": "2022-07-13T00:15:30.055478Z",
     "shell.execute_reply": "2022-07-13T00:15:30.054841Z"
    }
   },
   "outputs": [],
   "source": [
    "def compress_spec(g, v, out):\n",
    "    j = 0\n",
    "    for i in range(len(g)):\n",
    "        if g[i]:\n",
    "            out[j] = v[i]\n",
    "            j += 1\n",
    "            \n",
    "def compress(g: TT[\"i\", bool], v: TT[\"i\"], i:int) -> TT[\"i\"]:\n",
    "    raise NotImplementedError\n",
    "\n",
    "\n",
    "test_compress = make_test(\"compress\", compress, compress_spec, add_sizes=[\"i\"])"
   ]
  },
  {
   "cell_type": "code",
   "execution_count": 29,
   "id": "9e98d290",
   "metadata": {
    "execution": {
     "iopub.execute_input": "2022-07-13T00:15:30.058645Z",
     "iopub.status.busy": "2022-07-13T00:15:30.058336Z",
     "iopub.status.idle": "2022-07-13T00:15:30.061763Z",
     "shell.execute_reply": "2022-07-13T00:15:30.061166Z"
    },
    "lines_to_next_cell": 2
   },
   "outputs": [],
   "source": [
    "# run_test(test_compress)"
   ]
  },
  {
   "cell_type": "markdown",
   "id": "0e944d79",
   "metadata": {
    "lines_to_next_cell": 2
   },
   "source": [
    "## Puzzle 13 - pad_to\n",
    "\n",
    "\n",
    "Compute pad_to - eliminate or add 0s to change size of vector."
   ]
  },
  {
   "cell_type": "code",
   "execution_count": null,
   "id": "52988720",
   "metadata": {
    "execution": {
     "iopub.execute_input": "2022-07-13T00:15:30.064726Z",
     "iopub.status.busy": "2022-07-13T00:15:30.064418Z",
     "iopub.status.idle": "2022-07-13T00:15:31.162878Z",
     "shell.execute_reply": "2022-07-13T00:15:31.162268Z"
    },
    "id": "-DsZHgOTroVN"
   },
   "outputs": [],
   "source": [
    "def pad_to_spec(a, out):\n",
    "    for i in range(min(len(out), len(a))):\n",
    "        out[i] = a[i]\n",
    "\n",
    "\n",
    "def pad_to(a: TT[\"i\"], i: int, j: int) -> TT[\"j\"]:\n",
    "    raise NotImplementedError\n",
    "\n",
    "\n",
    "test_pad_to = make_test(\"pad_to\", pad_to, pad_to_spec, add_sizes=[\"i\", \"j\"])"
   ]
  },
  {
   "cell_type": "code",
   "execution_count": 31,
   "id": "f8e5aee3",
   "metadata": {
    "execution": {
     "iopub.execute_input": "2022-07-13T00:15:31.166060Z",
     "iopub.status.busy": "2022-07-13T00:15:31.165749Z",
     "iopub.status.idle": "2022-07-13T00:15:31.169131Z",
     "shell.execute_reply": "2022-07-13T00:15:31.168580Z"
    }
   },
   "outputs": [],
   "source": [
    "# run_test(test_pad_to)"
   ]
  },
  {
   "cell_type": "markdown",
   "id": "aee589be",
   "metadata": {},
   "source": [
    "## Puzzle 14 - sequence_mask\n",
    "\n",
    "\n",
    "Compute [sequence_mask](https://www.tensorflow.org/api_docs/python/tf/sequence_mask) - pad out to length per batch."
   ]
  },
  {
   "cell_type": "code",
   "execution_count": null,
   "id": "6aca6d50",
   "metadata": {
    "execution": {
     "iopub.execute_input": "2022-07-13T00:15:31.172146Z",
     "iopub.status.busy": "2022-07-13T00:15:31.171799Z",
     "iopub.status.idle": "2022-07-13T00:15:33.292198Z",
     "shell.execute_reply": "2022-07-13T00:15:33.291558Z"
    }
   },
   "outputs": [],
   "source": [
    "def sequence_mask_spec(values, length, out):\n",
    "    for i in range(len(out)):\n",
    "        for j in range(len(out[0])):\n",
    "            if j < length[i]:\n",
    "                out[i][j] = values[i][j]\n",
    "            else:\n",
    "                out[i][j] = 0\n",
    "    \n",
    "def sequence_mask(values: TT[\"i\", \"j\"], length: TT[\"i\", int]) -> TT[\"i\", \"j\"]:\n",
    "    raise NotImplementedError\n",
    "\n",
    "\n",
    "def constraint_set_length(d):\n",
    "    d[\"length\"] = d[\"length\"] % d[\"values\"].shape[1]\n",
    "    return d\n",
    "\n",
    "\n",
    "test_sequence = make_test(\"sequence_mask\",\n",
    "    sequence_mask, sequence_mask_spec, constraint=constraint_set_length\n",
    ")"
   ]
  },
  {
   "cell_type": "code",
   "execution_count": 33,
   "id": "f5646e37",
   "metadata": {
    "execution": {
     "iopub.execute_input": "2022-07-13T00:15:33.295923Z",
     "iopub.status.busy": "2022-07-13T00:15:33.295590Z",
     "iopub.status.idle": "2022-07-13T00:15:33.299068Z",
     "shell.execute_reply": "2022-07-13T00:15:33.298467Z"
    },
    "lines_to_next_cell": 2
   },
   "outputs": [],
   "source": [
    "# run_test(test_sequence)"
   ]
  },
  {
   "cell_type": "markdown",
   "id": "342fedba",
   "metadata": {
    "lines_to_next_cell": 2
   },
   "source": [
    "## Puzzle 15 - bincount\n",
    "\n",
    "Compute [bincount](https://numpy.org/doc/stable/reference/generated/numpy.bincount.html) - count number of times an entry was seen."
   ]
  },
  {
   "cell_type": "code",
   "execution_count": null,
   "id": "b8a0a10c",
   "metadata": {
    "execution": {
     "iopub.execute_input": "2022-07-13T00:15:33.302153Z",
     "iopub.status.busy": "2022-07-13T00:15:33.301837Z",
     "iopub.status.idle": "2022-07-13T00:15:34.370952Z",
     "shell.execute_reply": "2022-07-13T00:15:34.370349Z"
    }
   },
   "outputs": [],
   "source": [
    "def bincount_spec(a, out):\n",
    "    for i in range(len(a)):\n",
    "        out[a[i]] += 1\n",
    "        \n",
    "def bincount(a: TT[\"i\"], j: int) -> TT[\"j\"]:\n",
    "    raise NotImplementedError\n",
    "\n",
    "\n",
    "def constraint_set_max(d):\n",
    "    d[\"a\"] = d[\"a\"] % d[\"return\"].shape[0]\n",
    "    return d\n",
    "\n",
    "\n",
    "test_bincount = make_test(\"bincount\",\n",
    "    bincount, bincount_spec, add_sizes=[\"j\"], constraint=constraint_set_max\n",
    ")"
   ]
  },
  {
   "cell_type": "code",
   "execution_count": 35,
   "id": "0d766aec",
   "metadata": {
    "execution": {
     "iopub.execute_input": "2022-07-13T00:15:34.374345Z",
     "iopub.status.busy": "2022-07-13T00:15:34.373778Z",
     "iopub.status.idle": "2022-07-13T00:15:34.377216Z",
     "shell.execute_reply": "2022-07-13T00:15:34.376611Z"
    },
    "lines_to_next_cell": 2
   },
   "outputs": [],
   "source": [
    "# run_test(test_bincount)"
   ]
  },
  {
   "cell_type": "markdown",
   "id": "1ff7e77c",
   "metadata": {
    "lines_to_next_cell": 2
   },
   "source": [
    "## Puzzle 16 - scatter_add\n",
    "\n",
    "Compute [scatter_add](https://pytorch-scatter.readthedocs.io/en/1.3.0/functions/add.html) - add together values that link to the same location."
   ]
  },
  {
   "cell_type": "code",
   "execution_count": null,
   "id": "405a800e",
   "metadata": {
    "execution": {
     "iopub.execute_input": "2022-07-13T00:15:34.380250Z",
     "iopub.status.busy": "2022-07-13T00:15:34.379949Z",
     "iopub.status.idle": "2022-07-13T00:15:35.637090Z",
     "shell.execute_reply": "2022-07-13T00:15:35.636472Z"
    }
   },
   "outputs": [],
   "source": [
    "def scatter_add_spec(values, link, out):\n",
    "    for j in range(len(values)):\n",
    "        out[link[j]] += values[j]\n",
    "        \n",
    "def scatter_add(values: TT[\"i\"], link: TT[\"i\"], j: int) -> TT[\"j\"]:\n",
    "    raise NotImplementedError\n",
    "\n",
    "\n",
    "def constraint_set_max(d):\n",
    "    d[\"link\"] = d[\"link\"] % d[\"return\"].shape[0]\n",
    "    return d\n",
    "\n",
    "\n",
    "test_scatter_add = make_test(\"scatter_add\",\n",
    "    scatter_add, scatter_add_spec, add_sizes=[\"j\"], constraint=constraint_set_max\n",
    ")"
   ]
  },
  {
   "cell_type": "code",
   "execution_count": 37,
   "id": "a9ea0110",
   "metadata": {
    "execution": {
     "iopub.execute_input": "2022-07-13T00:15:35.640245Z",
     "iopub.status.busy": "2022-07-13T00:15:35.639897Z",
     "iopub.status.idle": "2022-07-13T00:15:35.643383Z",
     "shell.execute_reply": "2022-07-13T00:15:35.642753Z"
    },
    "lines_to_next_cell": 2
   },
   "outputs": [],
   "source": [
    "# run_test(test_scatter_add)"
   ]
  },
  {
   "cell_type": "markdown",
   "id": "9020b21b",
   "metadata": {},
   "source": [
    "## Puzzle 17 - flatten\n",
    "\n",
    "Compute [flatten](https://numpy.org/doc/stable/reference/generated/numpy.ndarray.flatten.html)"
   ]
  },
  {
   "cell_type": "code",
   "execution_count": null,
   "id": "56c917be",
   "metadata": {
    "execution": {
     "iopub.execute_input": "2022-07-13T00:15:35.646407Z",
     "iopub.status.busy": "2022-07-13T00:15:35.646100Z",
     "iopub.status.idle": "2022-07-13T00:15:37.321766Z",
     "shell.execute_reply": "2022-07-13T00:15:37.321136Z"
    },
    "lines_to_next_cell": 1
   },
   "outputs": [],
   "source": [
    "def flatten_spec(a, out):\n",
    "    k = 0\n",
    "    for i in range(len(a)):\n",
    "        for j in range(len(a[0])):\n",
    "            out[k] = a[i][j]\n",
    "            k += 1\n",
    "\n",
    "def flatten(a: TT[\"i\", \"j\"], i:int, j:int) -> TT[\"i * j\"]:\n",
    "    raise NotImplementedError\n",
    "\n",
    "test_flatten = make_test(\"flatten\", flatten, flatten_spec, add_sizes=[\"i\", \"j\"])"
   ]
  },
  {
   "cell_type": "code",
   "execution_count": 39,
   "id": "a129e213",
   "metadata": {
    "execution": {
     "iopub.execute_input": "2022-07-13T00:15:37.325238Z",
     "iopub.status.busy": "2022-07-13T00:15:37.324893Z",
     "iopub.status.idle": "2022-07-13T00:15:37.328344Z",
     "shell.execute_reply": "2022-07-13T00:15:37.327760Z"
    }
   },
   "outputs": [],
   "source": [
    "# run_test(test_flatten)"
   ]
  },
  {
   "cell_type": "markdown",
   "id": "bc61b4eb",
   "metadata": {},
   "source": [
    "## Puzzle 18 - linspace\n",
    "\n",
    "Compute [linspace](https://numpy.org/doc/stable/reference/generated/numpy.linspace.html)"
   ]
  },
  {
   "cell_type": "code",
   "execution_count": null,
   "id": "115ef19c",
   "metadata": {
    "execution": {
     "iopub.execute_input": "2022-07-13T00:15:37.331326Z",
     "iopub.status.busy": "2022-07-13T00:15:37.330999Z",
     "iopub.status.idle": "2022-07-13T00:15:38.652685Z",
     "shell.execute_reply": "2022-07-13T00:15:38.652037Z"
    }
   },
   "outputs": [],
   "source": [
    "def linspace_spec(i, j, out):\n",
    "    for k in range(len(out)):\n",
    "        out[k] = float(i + (j - i) * k / max(1, len(out) - 1))\n",
    "\n",
    "def linspace(i: TT[1], j: TT[1], n: int) -> TT[\"n\", float]:\n",
    "    raise NotImplementedError\n",
    "\n",
    "test_linspace = make_test(\"linspace\", linspace, linspace_spec, add_sizes=[\"n\"])"
   ]
  },
  {
   "cell_type": "code",
   "execution_count": 41,
   "id": "812a6235",
   "metadata": {
    "execution": {
     "iopub.execute_input": "2022-07-13T00:15:38.655950Z",
     "iopub.status.busy": "2022-07-13T00:15:38.655631Z",
     "iopub.status.idle": "2022-07-13T00:15:38.659029Z",
     "shell.execute_reply": "2022-07-13T00:15:38.658438Z"
    },
    "lines_to_next_cell": 2
   },
   "outputs": [],
   "source": [
    "# run_test(test_linspace)"
   ]
  },
  {
   "cell_type": "markdown",
   "id": "1d107267",
   "metadata": {},
   "source": [
    "## Puzzle 19 - heaviside\n",
    "\n",
    "Compute [heaviside](https://numpy.org/doc/stable/reference/generated/numpy.heaviside.html)"
   ]
  },
  {
   "cell_type": "code",
   "execution_count": null,
   "id": "3becb5f1",
   "metadata": {
    "execution": {
     "iopub.execute_input": "2022-07-13T00:15:38.662023Z",
     "iopub.status.busy": "2022-07-13T00:15:38.661722Z",
     "iopub.status.idle": "2022-07-13T00:15:39.902909Z",
     "shell.execute_reply": "2022-07-13T00:15:39.902243Z"
    }
   },
   "outputs": [],
   "source": [
    "def heaviside_spec(a, b, out):\n",
    "    for k in range(len(out)):\n",
    "        if a[k] == 0:\n",
    "            out[k] = b[k]\n",
    "        else:\n",
    "            out[k] = int(a[k] > 0)\n",
    "\n",
    "def heaviside(a: TT[\"i\"], b: TT[\"i\"]) -> TT[\"i\"]:\n",
    "    raise NotImplementedError\n",
    "\n",
    "test_heaviside = make_test(\"heaviside\", heaviside, heaviside_spec)"
   ]
  },
  {
   "cell_type": "code",
   "execution_count": 43,
   "id": "357974e8",
   "metadata": {
    "execution": {
     "iopub.execute_input": "2022-07-13T00:15:39.906141Z",
     "iopub.status.busy": "2022-07-13T00:15:39.905812Z",
     "iopub.status.idle": "2022-07-13T00:15:39.909230Z",
     "shell.execute_reply": "2022-07-13T00:15:39.908641Z"
    },
    "lines_to_next_cell": 2
   },
   "outputs": [],
   "source": [
    "# run_test(test_heaviside)"
   ]
  },
  {
   "cell_type": "markdown",
   "id": "a2d00053",
   "metadata": {},
   "source": [
    "## Puzzle 20 - repeat (1d)\n",
    "\n",
    "Compute [repeat](https://pytorch.org/docs/stable/generated/torch.Tensor.repeat.html)"
   ]
  },
  {
   "cell_type": "code",
   "execution_count": null,
   "id": "f763b7ce",
   "metadata": {
    "execution": {
     "iopub.execute_input": "2022-07-13T00:15:39.912233Z",
     "iopub.status.busy": "2022-07-13T00:15:39.911925Z",
     "iopub.status.idle": "2022-07-13T00:15:41.190253Z",
     "shell.execute_reply": "2022-07-13T00:15:41.189625Z"
    }
   },
   "outputs": [],
   "source": [
    "def repeat_spec(a, d, out):\n",
    "    for i in range(d[0]):\n",
    "        for k in range(len(a)):\n",
    "            out[i][k] = a[k]\n",
    "\n",
    "def constraint_set(d):\n",
    "    d[\"d\"][0] = d[\"return\"].shape[0]\n",
    "    return d\n",
    "\n",
    "            \n",
    "def repeat(a: TT[\"i\"], d: TT[1]) -> TT[\"d\", \"i\"]:\n",
    "    raise NotImplementedError\n",
    "\n",
    "test_repeat = make_test(\"repeat\", repeat, repeat_spec, constraint=constraint_set)\n",
    "\n",
    "\n",
    "# ## Puzzle 21 - bucketize\n",
    "#\n",
    "# Compute [bucketize](https://pytorch.org/docs/stable/generated/torch.bucketize.html)"
   ]
  },
  {
   "cell_type": "code",
   "execution_count": null,
   "id": "7832fda9",
   "metadata": {
    "execution": {
     "iopub.execute_input": "2022-07-13T00:15:41.193726Z",
     "iopub.status.busy": "2022-07-13T00:15:41.193384Z",
     "iopub.status.idle": "2022-07-13T00:15:42.586710Z",
     "shell.execute_reply": "2022-07-13T00:15:42.586092Z"
    }
   },
   "outputs": [],
   "source": [
    "def bucketize_spec(v, boundaries, out):\n",
    "    for i, val in enumerate(v):\n",
    "        out[i] = 0\n",
    "        for j in range(len(boundaries)-1):\n",
    "            if val >= boundaries[j]:\n",
    "                out[i] = j + 1\n",
    "        if val >= boundaries[-1]:\n",
    "            out[i] = len(boundaries)\n",
    "\n",
    "\n",
    "def constraint_set(d):\n",
    "    d[\"boundaries\"] = np.abs(d[\"boundaries\"]).cumsum()\n",
    "    return d\n",
    "\n",
    "            \n",
    "def bucketize(v: TT[\"i\"], boundaries: TT[\"j\"]) -> TT[\"i\"]:\n",
    "    raise NotImplementedError\n",
    "\n",
    "test_bucketize = make_test(\"bucketize\", bucketize, bucketize_spec,\n",
    "                           constraint=constraint_set)\n",
    "\n",
    "\n",
    "#\n",
    "# # Speed Run Mode!\n",
    "#\n",
    "# What is the smallest you can make each of these?"
   ]
  },
  {
   "cell_type": "code",
   "execution_count": null,
   "id": "dbf265d8",
   "metadata": {
    "execution": {
     "iopub.execute_input": "2022-07-13T00:15:42.589966Z",
     "iopub.status.busy": "2022-07-13T00:15:42.589646Z",
     "iopub.status.idle": "2022-07-13T00:15:42.599516Z",
     "shell.execute_reply": "2022-07-13T00:15:42.598869Z"
    }
   },
   "outputs": [],
   "source": [
    "import inspect\n",
    "fns = (ones, sum, outer, diag, eye, triu, cumsum, diff, vstack, roll, flip,\n",
    "       compress, pad_to, sequence_mask, bincount, scatter_add)\n",
    "\n",
    "for fn in fns:\n",
    "    lines = [l for l in inspect.getsource(fn).split(\"\\n\") if not l.strip().startswith(\"#\")]\n",
    "    \n",
    "    if len(lines) > 3:\n",
    "        print(fn.__name__, len(lines[2]), \"(more than 1 line)\")\n",
    "    else:\n",
    "        print(fn.__name__, len(lines[1]))"
   ]
  }
 ],
 "metadata": {
  "jupytext": {
   "cell_metadata_filter": "id,-all"
  },
  "kernelspec": {
   "display_name": ".venv",
   "language": "python",
   "name": "python3"
  },
  "language_info": {
   "codemirror_mode": {
    "name": "ipython",
    "version": 3
   },
   "file_extension": ".py",
   "mimetype": "text/x-python",
   "name": "python",
   "nbconvert_exporter": "python",
   "pygments_lexer": "ipython3",
   "version": "3.12.6"
  }
 },
 "nbformat": 4,
 "nbformat_minor": 5
}
